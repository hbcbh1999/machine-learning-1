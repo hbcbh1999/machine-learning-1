{
 "cells": [
  {
   "cell_type": "markdown",
   "metadata": {},
   "source": [
    "# Homework Assignment 4\n",
    "\n",
    "Student: Weiyi Chen, weiyi.chen@baruchmail.cuny.edu"
   ]
  },
  {
   "cell_type": "markdown",
   "metadata": {},
   "source": [
    "## Problem 1\n",
    "\n",
    "You’ve constructed a model to classify profitable vs. unprofitable trades on price series data that show an a priori (pre-classification) ratio of profitable vs. unprofitable opportunities given by\n",
    "\n",
    "$$ \\frac{\\text{# Profitable Trades}}{\\text{# Unprofitable Trades}} \\equiv H $$\n",
    "\n",
    "Show that, in order to be profitable, your classifier must lie in the region bounded from below by the line \n",
    "\n",
    "$$ y = (\\frac{1}{2H} \\frac{L}{P}) x + \\frac{1}{2} $$\n",
    "\n",
    "in the ROC plane. More specifically, in a liquidity-providing HFT strategy, the loss-to-profit ratio of a trade is typically given by\n",
    "\n",
    "$$ \\frac{L}{P} = \\frac{1+2c}{1-2c} $$\n",
    "\n",
    "where $c$ is the transaction cost in units of cents, so that\n",
    "\n",
    "$$ \\frac{L}{P} \\cong 3 $$\n",
    "\n",
    "while the ratio of a priori profitable vs. unprofitable trades is of the order of 0.5. Plot the region in ROC space corresponding to the viable classifiers for this strategy."
   ]
  },
  {
   "cell_type": "markdown",
   "metadata": {},
   "source": [
    "### Solution\n",
    "\n",
    "For a point $(x,y) = (fp, tp)$ on the ROC plane, the profitable points are such that\n",
    "\n",
    "$$ (TP − FN) \\cdot P > FP \\cdot L $$\n",
    "\n",
    "where \n",
    "\n",
    "$$TP = \\text{# Profitable Trades} \\cdot tp \\\\ \n",
    "FN = \\text{# Profitable Trades} \\cdot (1−tp) \\\\ \n",
    "FP = \\text{# Unprofitable Trades} \\cdot fp\n",
    "$$\n",
    "\n",
    "Plugging in $H$, we have\n",
    "\n",
    "$$ tp > (\\frac{1}{2H} \\frac{L}{P}) fp + \\frac{1}{2} \\mbox{ or } y > (\\frac{1}{2H} \\frac{L}{P}) x + \\frac{1}{2}$$\n",
    "\n",
    "that is, in order to be profitable, the classifier must lie in the region bounded from below by the line. When \n",
    "\n",
    "$$ \\frac{L}{P} \\cong 3, H \\cong 0.5 $$\n",
    "\n",
    "We derive $y > 3x + 0.5$. The green line below is the viable classifiers for this strategy."
   ]
  },
  {
   "cell_type": "code",
   "execution_count": 10,
   "metadata": {
    "collapsed": false
   },
   "outputs": [
    {
     "data": {
      "image/png": "[encoded data removed]",
      "text/plain": [
       "<matplotlib.figure.Figure at 0x1176121d0>"
      ]
     },
     "metadata": {},
     "output_type": "display_data"
    }
   ],
   "source": [
    "# Plot the region in ROC space corresponding to the viable classifiers for this strategy.\n",
    "\n",
    "%matplotlib inline\n",
    "import numpy as np\n",
    "import matplotlib.pyplot as plt\n",
    "\n",
    "X = np.linspace(0,100,100)\n",
    "Y = [3*x+50 for x in X]\n",
    "\n",
    "plt.plot(X,X) # Random\n",
    "plt.plot(X,Y) # This strategy\n",
    "plt.xlim([0,100])\n",
    "plt.ylim([0,100])\n",
    "plt.show()"
   ]
  },
  {
   "cell_type": "markdown",
   "metadata": {},
   "source": [
    "## Problem 2\n",
    "\n",
    "You’re searching for Association Rules in a transaction database with 1,000,000 transactions, but this time your algorithm is using the Dependency Framework. You’ve decided to use Minterm Support of 􏰐$s = 5$ at the $p􏱝 = 80\\%$ level, and a 􏲃􏰔$\\chi^2$ Significance Level of 􏲄$\\alpha = 0.05$ (i.e., a 95% Confidence Level). You’re considering Itemsets $X$􏱣 and $Y$􏰹 and have measured the following occurrences in the database: Number of occurrences of 􏱣$X$ is 500,000; $Y$􏰹 occurs 400,000 times. \n",
    "\n",
    "- (a) Assuming that $X$􏱣 and $Y$ occur together 200,000 times, what is the Minterm Support? Does it clear the Minterm Support threshold? \n",
    "- (b) Compute the 􏲃􏰔$\\chi^2$ Statistic, and notice that it does not clear the Significance Level. \n",
    "- (c) Based on your answers to (a) and (b) is this an Interesting Association Rule according to the Dependency Framework? Discuss whether this is a good idea and contrast with your answer to 5.(c) in Homework Assignment 3 from last week. \n",
    "\n",
    "Now suppose that $X$􏱣 and $Y$􏰹 occur together only 2,000 times. \n",
    "\n",
    "- (d) What is the Minterm Support? Does it clear the Minterm Support Threshold? \n",
    "- (e) Compute the $\\chi^2$􏲃􏰔 Statistic, and notice that it does clear the Significance Level (alternatively you could look up this value in a table for a 􏲃􏰔 Statistic with degree of freedom = 1). \n",
    "- (f) Based on the answers to (d) and (e), and assuming the Dependency Strength is high enough, is this an Interesting Association Rule according to the Dependency Framework? Discuss whether this is a good idea and contrast with your answer to 5.(f) from Homework Assignment 3."
   ]
  },
  {
   "cell_type": "markdown",
   "metadata": {},
   "source": [
    "### Solution\n",
    "\n",
    "#### (a) Minterm Support\n",
    "\n",
    "an Itemset 􏱣$X$ has Minterm Support $s$􏰐 at the 􏱝$p\\%$ level if:\n",
    "\n",
    "- No Minterm of $X$ has expected value less than $1$\n",
    "- At least $p\\%$ of the Minterms of $X$ have expected value no less than $s$\n",
    "\n",
    "In our case, the minterms of $X$ and $Y$ are: $XY, \\bar{X}Y, X\\bar{Y}, \\bar{X}\\bar{Y}$, their expected value could be represented by their observed value, that is\n",
    "\n",
    "\\begin{align}\n",
    "O(XY) &= 200,000 \\\\\n",
    "O(\\bar{X}Y) &= O(Y) - O(XY) = 200,000 \\\\\n",
    "O(X\\bar{Y}) &= O(X) - O(XY) = 300,000 \\\\\n",
    "O(\\bar{X}\\bar{Y}) &= 1,000,000 - (O(X) + O(Y) - O(XY)) = 300,000\n",
    "\\end{align}\n",
    "\n",
    "Obviously none of them has expected value less than $1$ and all the minterms have expected value no less than $s=5$. It clears the Minterm Support Threshold.\n",
    "\n",
    "#### (b) $\\chi^2$ statistic\n",
    "\n",
    "The $\\chi^2$ statistic is computed as\n",
    "\n",
    "$$ \\chi^2 = \\sum_{i=1}^{n} \\frac{(O_i - E_i)^2}{E_i} = 0 $$\n",
    "\n",
    "as we used observed value for expected value, hence\n",
    "\n",
    "$$ \\chi^2 = 0 < \\chi_1^2(.95) = 3.84 $$\n",
    "\n",
    "It does not clear the significance level at $5\\%$.\n",
    "\n",
    "#### (c) Conclusion\n",
    "\n",
    "This is not an interesting Association Rule. This is a good idea compared to the answer to 5.(c) in Homework Assignment 3 from last week, as the Support-Confidence Framework treated the result as an interesting Associate Rule, which is incorrect.\n",
    "\n",
    "#### (d) Mintern Support\n",
    "\n",
    "Similar to (a), the expected values of minterms of $X$ and $Y$ are are\n",
    "\n",
    "\\begin{align}\n",
    "O(XY) &= 2,000 \\\\\n",
    "O(\\bar{X}Y) &= O(Y) - O(XY) = 398,000 \\\\\n",
    "O(X\\bar{Y}) &= O(X) - O(XY) = 498,000 \\\\\n",
    "O(\\bar{X}\\bar{Y}) &= 1,000,000 - (O(X) + O(Y) - O(XY)) = 102,000\n",
    "\\end{align}\n",
    "\n",
    "Obviously none of them has expected value less than $1$ and all the minterms have expected value no less than $s=5$. It clears the Minterm Support Threshold.\n",
    "\n",
    "#### (e) $\\chi^2$ statistic\n",
    "\n",
    "The $\\chi^2$ statistic is computed as\n",
    "\n",
    "$$ \\chi^2 = \\sum_{i=1}^{n} \\frac{(O_i - E_i)^2}{E_i} = 653400 > \\chi_1^2(.95) = 3.84 $$\n",
    "\n",
    "It clears the significance level at $5\\%$.\n",
    "\n",
    "#### (f) Conclusion\n",
    "\n",
    "Assuming the Dependency Strength is high enough, this is an Interesting Association Rule according to the Dependency Framework. It is an good idea compared to 5.(f) in Homework Assignment 3 from last wekk, as the Support-Confidence Framework was unable to figure it out."
   ]
  },
  {
   "cell_type": "markdown",
   "metadata": {},
   "source": [
    "## Problem 3\n",
    "\n",
    "What is the Region of Interest and how is it generated? In the Dependency Framework, why is the Dependency Strength Coefficient $U$ not used for generating the Region of Interest? Given the same database 􏲐$\\mathcal{D}$, would you expect the Region of Interest to be smaller or larger for the Dependency Framework as compared with the Support-Confidence Framework? Discuss."
   ]
  },
  {
   "cell_type": "markdown",
   "metadata": {},
   "source": [
    "### Solution\n",
    "\n",
    "#### Region of Interest\n",
    "\n",
    "The External Closure of the $\\chi^2$􏲃􏰔 statistic taken together with the Internal Closure of Minterm Support define the *Region of Interest* for the correctly stated Association Rules Problem using the Dependency Framework; i.e., *the reduced search space for Interesting Dependence Rules*.\n",
    "\n",
    "To illustrate the Region of Interest, let $\\Sigma$ be the set of all Minterm Supported Itemsets in $\\mathcal{I}$, and $\\Delta$ be the set of all Dependent Itemsets at the $1-\\alpha$􏲣 􏲄 Confidence Level, which are supersets of Minterm Supported 2-Itemsets. The Region of Interest is simply the intersection of $\\Sigma$ and $\\Delta$.\n",
    "\n",
    "#### Dependency Strength Coefficient\n",
    "\n",
    "Note that the Dependency Strength Coefficient has no Closure property and thus cannot be used for pruning the search except until the very end.\n",
    "\n",
    "#### Dependency Framework vs. Support-Confidence Framework\n",
    "\n",
    "The relationship between the size of the Region of Interest for these two Frameworks is unclear. Dependency former has internal closure of Minterm Support and external closure of the $\\chi^2$ statistic. The Support-Confidence has internal closure of Support and external support of Confidence. It's unclear which one would be larger."
   ]
  },
  {
   "cell_type": "markdown",
   "metadata": {},
   "source": [
    "## Problem 4\n",
    "\n",
    "You’re searching for Association Rules in a very large transactional database, and you’ve decided to use sampling to reduce the computation time. However, you do not want the probability that your support error exceed 0.1% to be more than 0.01. What should your sample size be?"
   ]
  },
  {
   "cell_type": "markdown",
   "metadata": {},
   "source": [
    "### Solution\n",
    "\n",
    "If 􏰚􏲚$m_s$ is chosen such that\n",
    "\n",
    "$$ m_s \\ge \\frac{1}{2\\epsilon^2} \\ln(\\frac{2}{\\delta}) $$\n",
    "\n",
    "then $P(\\epsilon(X,m_S) > \\epsilon) \\le \\delta$.\n",
    "\n",
    "In our case, let $\\delta = 0.01, \\epsilon = 0.1\\%$, then\n",
    "\n",
    "$$ m_s \\ge \\frac{1}{2\\epsilon^2} \\ln(\\frac{2}{\\delta}) = 2649159.$$"
   ]
  },
  {
   "cell_type": "code",
   "execution_count": 14,
   "metadata": {
    "collapsed": false
   },
   "outputs": [
    {
     "name": "stdout",
     "output_type": "stream",
     "text": [
      "2649158.68327\n"
     ]
    }
   ],
   "source": [
    "import math\n",
    "epsilon = 0.1 / 100\n",
    "delta = 0.01\n",
    "print(1/(2*epsilon**2) * math.log(2/delta))"
   ]
  },
  {
   "cell_type": "markdown",
   "metadata": {},
   "source": [
    "## Problem 5\n",
    "\n",
    "Within the classical Support-Confidence Framework for finding Association Rules, prove that Support is Internally Closed. If you find an Itemset that is not supported, how can we use this property (along with Closure Complementarity) to prune the search space? Is Support a Type I or a Type II Property? Why?"
   ]
  },
  {
   "cell_type": "markdown",
   "metadata": {},
   "source": [
    "### Solution\n",
    "\n",
    "#### Internal Closure of Support\n",
    "\n",
    "To see this, let $X$ be a $k$-itemset with Support property, and consider, without loss of generality, a $(k-1)$-itemset $Y \\subset X$, we must show that $Y$ is also with Support property. To show this, note that $P(Y) \\ge P(X)$ for sure because $Y$ is a subset of $X$, we then have $P(Y) \\ge P(X) \\ge s$, satisfies the Support property.\n",
    "\n",
    "If we find an Itemset that is not supported, all its super-itemsets are not supported according to contrapositive statement of the lemma above.\n",
    "\n",
    "Support is a Type I Property because it is non-decreasing in the number of transactions that contain $X$."
   ]
  },
  {
   "cell_type": "markdown",
   "metadata": {},
   "source": [
    "## Problem 6\n",
    "\n",
    "The Dependency Framework uses the significance level $\\alpha$ to find Interesting Association Rules, but ignores $\\beta$. Suppose that you have obtained a set of Dependency-Framework Association Rules using a given $\\alpha \\ll 1$􏲄, and that you have estimated $\\beta$ using a non-central $\\chi^2$􏲃􏰔 distribution. Suppose, further, that you have estimated the Association Rules’ True Positive Rate as $1-\\alpha$􏲄, and that the loss incurred by an incorrectly assumed actionable for your Dependency Framework is $L$, while the benefit obtained by a correct actionable is $P$. What would be the minimum power for your Framework to be profitable?"
   ]
  },
  {
   "cell_type": "markdown",
   "metadata": {},
   "source": [
    "### Solution\n",
    "\n",
    "<img src=\"POWER.png\" width=300px>\n",
    "\n",
    "To guarantee the Framework profitable, \n",
    "\n",
    "$$ \\frac{TP - FN}{FP} > \\frac{L}{P} $$\n",
    "\n",
    "According to the graph above (from page 36 of lecture 4), $TP=1-\\alpha, FP=\\alpha, FN=\\beta$, we are able to derive\n",
    "\n",
    "$$ 1 - \\beta > \\frac{P+L}{P} \\alpha $$\n",
    "\n",
    "where the right part is the minimum power for our Framework to be profitable."
   ]
  },
  {
   "cell_type": "markdown",
   "metadata": {},
   "source": [
    "## Problem 7\n",
    "\n",
    "An ANN with a Tapped-Delay Line with $d$ delays is used as a predictor for a time series 􏰊􏱎$y_t$. Assuming that the network has a sufficient number of hidden nodes, and that you’ve adequately regularized the network and used techniques such as early stopping to avoid overfitting, what would be the advantage of using such a network to model the series 􏰊􏱎$y_t$ over using an Autoregression of the form\n",
    "\n",
    "$$ y_t = \\sum_{k=1}^d \\phi_k y_{t-k} $$\n",
    "\n",
    "where the $\\phi_i$ are obtained through linear regression."
   ]
  },
  {
   "cell_type": "markdown",
   "metadata": {},
   "source": [
    "### Solution\n",
    "\n",
    "Using an Autoregression of the form\n",
    "\n",
    "$$ y_t = \\sum_{k=1}^d \\phi_k y_{t-k} $$\n",
    "\n",
    "we can only build a linear autoregression (AR) time series. We can use ANNs to approximate a time series by treating the time series as a single input pattern, but introducing Delays ($\\mathbf{D}$) via a Tapped Delay Line:\n",
    "\n",
    "<img src='TDL.png' width=300px>\n",
    "\n",
    "This shows a TDL with N delays feeding into a single ADALINE, which can be used for approximating linear autoregressive (AR) time series.\n",
    "\n",
    "However if we use dynamic ANNs in Recurrent Networks, the output is fed back into the input via a TDL:\n",
    "\n",
    "<img src=\"Dynamic_ANN.png\" width=400px>\n",
    "\n",
    "Note that the inputs can include the output series $y_t$􏲴􏰓 itself, and/or a “Companion” or “Regressor” series 􏲵􏰓$x_t$. This can approximate a more general (possibly non-linear) series:\n",
    "\n",
    "$$ 􏲴y_t = f(y_{t-1}, y_{t-2}, ..., y_{t-m}, x_{t-1}, x_{t-2}, ..., x_{t-n}) $$\n",
    "\n",
    "where 􏱉$f$ is the (possibly non-linear) function to be approximated."
   ]
  }
 ],
 "metadata": {
  "kernelspec": {
   "display_name": "Python 2",
   "language": "python",
   "name": "python2"
  },
  "language_info": {
   "codemirror_mode": {
    "name": "ipython",
    "version": 2
   },
   "file_extension": ".py",
   "mimetype": "text/x-python",
   "name": "python",
   "nbconvert_exporter": "python",
   "pygments_lexer": "ipython2",
   "version": "2.7.9"
  }
 },
 "nbformat": 4,
 "nbformat_minor": 0
}
